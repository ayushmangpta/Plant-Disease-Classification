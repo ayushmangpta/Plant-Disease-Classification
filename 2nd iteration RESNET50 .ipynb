{
 "cells": [
  {
   "cell_type": "code",
   "execution_count": 1,
   "id": "0000489c-2a96-43c9-ac99-76a411194c18",
   "metadata": {},
   "outputs": [
    {
     "name": "stdout",
     "output_type": "stream",
     "text": [
      "Requirement already satisfied: scikit-learn in c:\\users\\lenovo\\anaconda3\\lib\\site-packages (1.4.2)\n",
      "Requirement already satisfied: tensorflow in c:\\users\\lenovo\\anaconda3\\lib\\site-packages (2.9.3)\n",
      "Requirement already satisfied: matplotlib in c:\\users\\lenovo\\anaconda3\\lib\\site-packages (3.8.4)\n",
      "Requirement already satisfied: seaborn in c:\\users\\lenovo\\anaconda3\\lib\\site-packages (0.12.2)\n",
      "Requirement already satisfied: numpy>=1.19.5 in c:\\users\\lenovo\\anaconda3\\lib\\site-packages (from scikit-learn) (1.26.4)\n",
      "Requirement already satisfied: scipy>=1.6.0 in c:\\users\\lenovo\\anaconda3\\lib\\site-packages (from scikit-learn) (1.12.0)\n",
      "Requirement already satisfied: joblib>=1.2.0 in c:\\users\\lenovo\\anaconda3\\lib\\site-packages (from scikit-learn) (1.4.0)\n",
      "Requirement already satisfied: threadpoolctl>=2.0.0 in c:\\users\\lenovo\\anaconda3\\lib\\site-packages (from scikit-learn) (2.2.0)\n",
      "Requirement already satisfied: absl-py>=1.0.0 in c:\\users\\lenovo\\anaconda3\\lib\\site-packages (from tensorflow) (2.1.0)\n",
      "Requirement already satisfied: astunparse>=1.6.0 in c:\\users\\lenovo\\anaconda3\\lib\\site-packages (from tensorflow) (1.6.3)\n",
      "Requirement already satisfied: flatbuffers<2,>=1.12 in c:\\users\\lenovo\\anaconda3\\lib\\site-packages (from tensorflow) (1.12)\n",
      "Requirement already satisfied: gast<=0.4.0,>=0.2.1 in c:\\users\\lenovo\\anaconda3\\lib\\site-packages (from tensorflow) (0.4.0)\n",
      "Requirement already satisfied: google-pasta>=0.1.1 in c:\\users\\lenovo\\anaconda3\\lib\\site-packages (from tensorflow) (0.2.0)\n",
      "Requirement already satisfied: h5py>=2.9.0 in c:\\users\\lenovo\\anaconda3\\lib\\site-packages (from tensorflow) (3.11.0)\n",
      "Requirement already satisfied: keras-preprocessing>=1.1.1 in c:\\users\\lenovo\\anaconda3\\lib\\site-packages (from tensorflow) (1.1.2)\n",
      "Requirement already satisfied: libclang>=13.0.0 in c:\\users\\lenovo\\anaconda3\\lib\\site-packages (from tensorflow) (18.1.1)\n",
      "Requirement already satisfied: opt-einsum>=2.3.2 in c:\\users\\lenovo\\anaconda3\\lib\\site-packages (from tensorflow) (3.3.0)\n",
      "Requirement already satisfied: packaging in c:\\users\\lenovo\\anaconda3\\lib\\site-packages (from tensorflow) (23.2)\n",
      "Requirement already satisfied: protobuf<3.20,>=3.9.2 in c:\\users\\lenovo\\anaconda3\\lib\\site-packages (from tensorflow) (3.19.6)\n",
      "Requirement already satisfied: setuptools in c:\\users\\lenovo\\anaconda3\\lib\\site-packages (from tensorflow) (69.5.1)\n",
      "Requirement already satisfied: six>=1.12.0 in c:\\users\\lenovo\\anaconda3\\lib\\site-packages (from tensorflow) (1.16.0)\n",
      "Requirement already satisfied: termcolor>=1.1.0 in c:\\users\\lenovo\\anaconda3\\lib\\site-packages (from tensorflow) (2.4.0)\n",
      "Requirement already satisfied: typing-extensions>=3.6.6 in c:\\users\\lenovo\\anaconda3\\lib\\site-packages (from tensorflow) (4.11.0)\n",
      "Requirement already satisfied: wrapt>=1.11.0 in c:\\users\\lenovo\\anaconda3\\lib\\site-packages (from tensorflow) (1.14.1)\n",
      "Requirement already satisfied: tensorflow-io-gcs-filesystem>=0.23.1 in c:\\users\\lenovo\\anaconda3\\lib\\site-packages (from tensorflow) (0.31.0)\n",
      "Requirement already satisfied: grpcio<2.0,>=1.24.3 in c:\\users\\lenovo\\anaconda3\\lib\\site-packages (from tensorflow) (1.64.0)\n",
      "Requirement already satisfied: tensorboard<2.10,>=2.9 in c:\\users\\lenovo\\anaconda3\\lib\\site-packages (from tensorflow) (2.9.1)\n",
      "Requirement already satisfied: tensorflow-estimator<2.10.0,>=2.9.0rc0 in c:\\users\\lenovo\\anaconda3\\lib\\site-packages (from tensorflow) (2.9.0)\n",
      "Requirement already satisfied: keras<2.10.0,>=2.9.0rc0 in c:\\users\\lenovo\\anaconda3\\lib\\site-packages (from tensorflow) (2.9.0)\n",
      "Requirement already satisfied: contourpy>=1.0.1 in c:\\users\\lenovo\\anaconda3\\lib\\site-packages (from matplotlib) (1.2.0)\n",
      "Requirement already satisfied: cycler>=0.10 in c:\\users\\lenovo\\anaconda3\\lib\\site-packages (from matplotlib) (0.11.0)\n",
      "Requirement already satisfied: fonttools>=4.22.0 in c:\\users\\lenovo\\anaconda3\\lib\\site-packages (from matplotlib) (4.25.0)\n",
      "Requirement already satisfied: kiwisolver>=1.3.1 in c:\\users\\lenovo\\anaconda3\\lib\\site-packages (from matplotlib) (1.4.4)\n",
      "Requirement already satisfied: pillow>=8 in c:\\users\\lenovo\\anaconda3\\lib\\site-packages (from matplotlib) (10.3.0)\n",
      "Requirement already satisfied: pyparsing>=2.3.1 in c:\\users\\lenovo\\anaconda3\\lib\\site-packages (from matplotlib) (3.0.9)\n",
      "Requirement already satisfied: python-dateutil>=2.7 in c:\\users\\lenovo\\appdata\\roaming\\python\\python310\\site-packages (from matplotlib) (2.9.0.post0)\n",
      "Requirement already satisfied: pandas>=0.25 in c:\\users\\lenovo\\anaconda3\\lib\\site-packages (from seaborn) (2.2.1)\n",
      "Requirement already satisfied: wheel<1.0,>=0.23.0 in c:\\users\\lenovo\\anaconda3\\lib\\site-packages (from astunparse>=1.6.0->tensorflow) (0.43.0)\n",
      "Requirement already satisfied: pytz>=2020.1 in c:\\users\\lenovo\\anaconda3\\lib\\site-packages (from pandas>=0.25->seaborn) (2024.1)\n",
      "Requirement already satisfied: tzdata>=2022.7 in c:\\users\\lenovo\\anaconda3\\lib\\site-packages (from pandas>=0.25->seaborn) (2023.3)\n",
      "Requirement already satisfied: google-auth<3,>=1.6.3 in c:\\users\\lenovo\\anaconda3\\lib\\site-packages (from tensorboard<2.10,>=2.9->tensorflow) (2.29.0)\n",
      "Requirement already satisfied: google-auth-oauthlib<0.5,>=0.4.1 in c:\\users\\lenovo\\anaconda3\\lib\\site-packages (from tensorboard<2.10,>=2.9->tensorflow) (0.4.6)\n",
      "Requirement already satisfied: markdown>=2.6.8 in c:\\users\\lenovo\\anaconda3\\lib\\site-packages (from tensorboard<2.10,>=2.9->tensorflow) (3.4.1)\n",
      "Requirement already satisfied: requests<3,>=2.21.0 in c:\\users\\lenovo\\anaconda3\\lib\\site-packages (from tensorboard<2.10,>=2.9->tensorflow) (2.32.2)\n",
      "Requirement already satisfied: tensorboard-data-server<0.7.0,>=0.6.0 in c:\\users\\lenovo\\anaconda3\\lib\\site-packages (from tensorboard<2.10,>=2.9->tensorflow) (0.6.1)\n",
      "Requirement already satisfied: tensorboard-plugin-wit>=1.6.0 in c:\\users\\lenovo\\anaconda3\\lib\\site-packages (from tensorboard<2.10,>=2.9->tensorflow) (1.8.1)\n",
      "Requirement already satisfied: werkzeug>=1.0.1 in c:\\users\\lenovo\\anaconda3\\lib\\site-packages (from tensorboard<2.10,>=2.9->tensorflow) (3.0.3)\n",
      "Requirement already satisfied: cachetools<6.0,>=2.0.0 in c:\\users\\lenovo\\anaconda3\\lib\\site-packages (from google-auth<3,>=1.6.3->tensorboard<2.10,>=2.9->tensorflow) (4.2.2)\n",
      "Requirement already satisfied: pyasn1-modules>=0.2.1 in c:\\users\\lenovo\\anaconda3\\lib\\site-packages (from google-auth<3,>=1.6.3->tensorboard<2.10,>=2.9->tensorflow) (0.2.8)\n",
      "Requirement already satisfied: rsa<5,>=3.1.4 in c:\\users\\lenovo\\anaconda3\\lib\\site-packages (from google-auth<3,>=1.6.3->tensorboard<2.10,>=2.9->tensorflow) (4.9)\n",
      "Requirement already satisfied: requests-oauthlib>=0.7.0 in c:\\users\\lenovo\\anaconda3\\lib\\site-packages (from google-auth-oauthlib<0.5,>=0.4.1->tensorboard<2.10,>=2.9->tensorflow) (2.0.0)\n",
      "Requirement already satisfied: charset-normalizer<4,>=2 in c:\\users\\lenovo\\anaconda3\\lib\\site-packages (from requests<3,>=2.21.0->tensorboard<2.10,>=2.9->tensorflow) (2.0.4)\n",
      "Requirement already satisfied: idna<4,>=2.5 in c:\\users\\lenovo\\anaconda3\\lib\\site-packages (from requests<3,>=2.21.0->tensorboard<2.10,>=2.9->tensorflow) (3.7)\n",
      "Requirement already satisfied: urllib3<3,>=1.21.1 in c:\\users\\lenovo\\anaconda3\\lib\\site-packages (from requests<3,>=2.21.0->tensorboard<2.10,>=2.9->tensorflow) (2.2.1)\n",
      "Requirement already satisfied: certifi>=2017.4.17 in c:\\users\\lenovo\\anaconda3\\lib\\site-packages (from requests<3,>=2.21.0->tensorboard<2.10,>=2.9->tensorflow) (2024.2.2)\n",
      "Requirement already satisfied: MarkupSafe>=2.1.1 in c:\\users\\lenovo\\anaconda3\\lib\\site-packages (from werkzeug>=1.0.1->tensorboard<2.10,>=2.9->tensorflow) (2.1.3)\n",
      "Requirement already satisfied: pyasn1<0.5.0,>=0.4.6 in c:\\users\\lenovo\\anaconda3\\lib\\site-packages (from pyasn1-modules>=0.2.1->google-auth<3,>=1.6.3->tensorboard<2.10,>=2.9->tensorflow) (0.4.8)\n",
      "Requirement already satisfied: oauthlib>=3.0.0 in c:\\users\\lenovo\\anaconda3\\lib\\site-packages (from requests-oauthlib>=0.7.0->google-auth-oauthlib<0.5,>=0.4.1->tensorboard<2.10,>=2.9->tensorflow) (3.2.2)\n"
     ]
    }
   ],
   "source": [
    "!pip install scikit-learn tensorflow matplotlib seaborn\n"
   ]
  },
  {
   "cell_type": "code",
   "execution_count": 2,
   "id": "3809cbd1-9894-4f55-912d-6ed30bdb9ef0",
   "metadata": {},
   "outputs": [],
   "source": [
    "import tensorflow as tf\n",
    "import matplotlib.pyplot as plt\n",
    "import os\n",
    "import seaborn as sns\n",
    "from tensorflow.keras.preprocessing.image import ImageDataGenerator\n",
    "from tensorflow.keras.applications import ResNet50\n",
    "from tensorflow.keras.layers import Dense, GlobalAveragePooling2D, Dropout\n",
    "from tensorflow.keras.models import Model\n",
    "from tensorflow.keras.callbacks import EarlyStopping, ReduceLROnPlateau, ModelCheckpoint, TensorBoard\n",
    "import numpy as np\n",
    "import pandas as pd\n",
    "from sklearn.model_selection import train_test_split\n",
    "from sklearn.metrics import classification_report\n",
    "from sklearn.metrics import confusion_matrix\n"
   ]
  },
  {
   "cell_type": "code",
   "execution_count": 3,
   "id": "6a9c3df5-27a1-40ef-a6eb-986c31bf4c04",
   "metadata": {},
   "outputs": [
    {
     "name": "stdout",
     "output_type": "stream",
     "text": [
      "Training samples: 4656\n",
      "Validation samples: 998\n",
      "Test samples: 998\n"
     ]
    }
   ],
   "source": [
    "data_dir = 'G:/archive/PlantVillage'\n",
    "\n",
    "class_names = sorted(os.listdir(data_dir))\n",
    "\n",
    "# Create a DataFrame to hold file paths and labels\n",
    "data = []\n",
    "for class_name in class_names:\n",
    "    class_dir = os.path.join(data_dir, class_name)\n",
    "    for file in os.listdir(class_dir):\n",
    "        data.append([os.path.join(class_dir, file), class_name])\n",
    "data_df = pd.DataFrame(data, columns=['file_path', 'label'])\n",
    "\n",
    "# Split the data\n",
    "train_df, temp_df = train_test_split(data_df, test_size=0.3, stratify=data_df['label'], random_state=42)\n",
    "val_df, test_df = train_test_split(temp_df, test_size=0.5, stratify=temp_df['label'], random_state=42)\n",
    "\n",
    "print(f'Training samples: {len(train_df)}')\n",
    "print(f'Validation samples: {len(val_df)}')\n",
    "print(f'Test samples: {len(test_df)}')"
   ]
  },
  {
   "cell_type": "code",
   "execution_count": 4,
   "id": "5a8c3604-bad5-4feb-ae55-26dcebd85a35",
   "metadata": {},
   "outputs": [
    {
     "name": "stdout",
     "output_type": "stream",
     "text": [
      "Found 4656 validated image filenames belonging to 6 classes.\n",
      "Found 998 validated image filenames belonging to 6 classes.\n",
      "Found 998 validated image filenames belonging to 6 classes.\n"
     ]
    }
   ],
   "source": [
    "# ImageDataGenerator for data augmentation and normalization\n",
    "train_datagen = ImageDataGenerator(\n",
    "    rescale=1./255,\n",
    "    rotation_range=40,\n",
    "    width_shift_range=0.2,\n",
    "    height_shift_range=0.2,\n",
    "    shear_range=0.2,\n",
    "    zoom_range=0.2,\n",
    "    horizontal_flip=True,\n",
    "    fill_mode='nearest'\n",
    ")\n",
    "\n",
    "val_test_datagen = ImageDataGenerator(rescale=1./255)\n",
    "\n",
    "# Create generators\n",
    "train_generator = train_datagen.flow_from_dataframe(\n",
    "    train_df,\n",
    "    x_col='file_path',\n",
    "    y_col='label',\n",
    "    target_size=(128, 128),\n",
    "    batch_size=16,\n",
    "    class_mode='categorical'\n",
    ")\n",
    "\n",
    "validation_generator = val_test_datagen.flow_from_dataframe(\n",
    "    val_df,\n",
    "    x_col='file_path',\n",
    "    y_col='label',\n",
    "    target_size=(128, 128),\n",
    "    batch_size=16,\n",
    "    class_mode='categorical'\n",
    ")\n",
    "\n",
    "test_generator = val_test_datagen.flow_from_dataframe(\n",
    "    test_df,\n",
    "    x_col='file_path',\n",
    "    y_col='label',\n",
    "    target_size=(128, 128),\n",
    "    batch_size=16,\n",
    "    class_mode='categorical',\n",
    "    shuffle=False\n",
    ")\n"
   ]
  },
  {
   "cell_type": "code",
   "execution_count": 5,
   "id": "e71a5c2e-2ad2-494b-ac35-2945e014dfd3",
   "metadata": {},
   "outputs": [],
   "source": [
    "# Load the ResNet50 model with pre-trained weights, excluding the top layers\n",
    "base_model = ResNet50(weights='imagenet', include_top=False, input_shape=(128, 128, 3))\n",
    "\n",
    "# Freeze the base model layers\n",
    "for layer in base_model.layers:\n",
    "    layer.trainable = True\n",
    "\n",
    "# Add custom top layers\n",
    "x = base_model.output\n",
    "x = GlobalAveragePooling2D()(x)\n",
    "x = Dense(1024, activation='relu')(x)\n",
    "x = Dropout(0.5)(x)\n",
    "predictions = Dense(len(class_names), activation='softmax')(x)\n",
    "\n",
    "# Create the final model\n",
    "model = Model(inputs=base_model.input, outputs=predictions)\n",
    "\n",
    "# Compile the model\n",
    "model.compile(optimizer=tf.keras.optimizers.Adam(learning_rate=0.00001),\n",
    "              loss='categorical_crossentropy',\n",
    "              metrics=['accuracy'])"
   ]
  },
  {
   "cell_type": "code",
   "execution_count": 6,
   "id": "cd9593ee-4702-40de-bf9a-70ab45bb7510",
   "metadata": {},
   "outputs": [
    {
     "name": "stdout",
     "output_type": "stream",
     "text": [
      "Epoch 1/50\n",
      "291/291 [==============================] - 54s 139ms/step - loss: 1.1271 - accuracy: 0.5805 - val_loss: 3.5293 - val_accuracy: 0.2883 - lr: 1.0000e-05\n",
      "Epoch 2/50\n",
      "291/291 [==============================] - 38s 130ms/step - loss: 0.5138 - accuracy: 0.8177 - val_loss: 3.8700 - val_accuracy: 0.2863 - lr: 1.0000e-05\n",
      "Epoch 3/50\n",
      "291/291 [==============================] - 39s 134ms/step - loss: 0.3496 - accuracy: 0.8729 - val_loss: 1.3521 - val_accuracy: 0.5706 - lr: 1.0000e-05\n",
      "Epoch 4/50\n",
      "291/291 [==============================] - 39s 134ms/step - loss: 0.2735 - accuracy: 0.9042 - val_loss: 0.2078 - val_accuracy: 0.9234 - lr: 1.0000e-05\n",
      "Epoch 5/50\n",
      "291/291 [==============================] - 40s 136ms/step - loss: 0.2170 - accuracy: 0.9205 - val_loss: 0.1123 - val_accuracy: 0.9607 - lr: 1.0000e-05\n",
      "Epoch 6/50\n",
      "291/291 [==============================] - 39s 134ms/step - loss: 0.1974 - accuracy: 0.9306 - val_loss: 0.1057 - val_accuracy: 0.9647 - lr: 1.0000e-05\n",
      "Epoch 7/50\n",
      "291/291 [==============================] - 39s 135ms/step - loss: 0.1656 - accuracy: 0.9433 - val_loss: 0.0862 - val_accuracy: 0.9728 - lr: 1.0000e-05\n",
      "Epoch 8/50\n",
      "291/291 [==============================] - 39s 135ms/step - loss: 0.1286 - accuracy: 0.9555 - val_loss: 0.0859 - val_accuracy: 0.9718 - lr: 1.0000e-05\n",
      "Epoch 9/50\n",
      "291/291 [==============================] - 40s 136ms/step - loss: 0.1199 - accuracy: 0.9596 - val_loss: 0.0581 - val_accuracy: 0.9768 - lr: 1.0000e-05\n",
      "Epoch 10/50\n",
      "291/291 [==============================] - 38s 131ms/step - loss: 0.1087 - accuracy: 0.9650 - val_loss: 0.0659 - val_accuracy: 0.9768 - lr: 1.0000e-05\n",
      "Epoch 11/50\n",
      "291/291 [==============================] - 38s 130ms/step - loss: 0.1022 - accuracy: 0.9678 - val_loss: 0.0680 - val_accuracy: 0.9728 - lr: 1.0000e-05\n",
      "Epoch 12/50\n",
      "291/291 [==============================] - 38s 130ms/step - loss: 0.0837 - accuracy: 0.9729 - val_loss: 0.0613 - val_accuracy: 0.9768 - lr: 1.0000e-05\n",
      "Epoch 13/50\n",
      "291/291 [==============================] - 39s 135ms/step - loss: 0.0763 - accuracy: 0.9742 - val_loss: 0.0522 - val_accuracy: 0.9819 - lr: 1.0000e-05\n",
      "Epoch 14/50\n",
      "291/291 [==============================] - 38s 130ms/step - loss: 0.0720 - accuracy: 0.9783 - val_loss: 0.0552 - val_accuracy: 0.9819 - lr: 1.0000e-05\n",
      "Epoch 15/50\n",
      "291/291 [==============================] - 39s 134ms/step - loss: 0.0733 - accuracy: 0.9770 - val_loss: 0.0518 - val_accuracy: 0.9839 - lr: 1.0000e-05\n",
      "Epoch 16/50\n",
      "291/291 [==============================] - 39s 134ms/step - loss: 0.0629 - accuracy: 0.9766 - val_loss: 0.0410 - val_accuracy: 0.9859 - lr: 1.0000e-05\n",
      "Epoch 17/50\n",
      "291/291 [==============================] - 38s 131ms/step - loss: 0.0560 - accuracy: 0.9815 - val_loss: 0.0419 - val_accuracy: 0.9829 - lr: 1.0000e-05\n",
      "Epoch 18/50\n",
      "291/291 [==============================] - 40s 136ms/step - loss: 0.0499 - accuracy: 0.9841 - val_loss: 0.0355 - val_accuracy: 0.9879 - lr: 1.0000e-05\n",
      "Epoch 19/50\n",
      "291/291 [==============================] - 38s 131ms/step - loss: 0.0507 - accuracy: 0.9817 - val_loss: 0.0463 - val_accuracy: 0.9869 - lr: 1.0000e-05\n",
      "Epoch 20/50\n",
      "291/291 [==============================] - 38s 131ms/step - loss: 0.0502 - accuracy: 0.9817 - val_loss: 0.0409 - val_accuracy: 0.9859 - lr: 1.0000e-05\n",
      "Epoch 21/50\n",
      "291/291 [==============================] - 39s 135ms/step - loss: 0.0436 - accuracy: 0.9835 - val_loss: 0.0334 - val_accuracy: 0.9869 - lr: 1.0000e-05\n",
      "Epoch 22/50\n",
      "291/291 [==============================] - 38s 131ms/step - loss: 0.0387 - accuracy: 0.9867 - val_loss: 0.0485 - val_accuracy: 0.9869 - lr: 1.0000e-05\n",
      "Epoch 23/50\n",
      "291/291 [==============================] - 38s 130ms/step - loss: 0.0398 - accuracy: 0.9852 - val_loss: 0.0429 - val_accuracy: 0.9869 - lr: 1.0000e-05\n",
      "Epoch 24/50\n",
      "291/291 [==============================] - 38s 130ms/step - loss: 0.0375 - accuracy: 0.9875 - val_loss: 0.0343 - val_accuracy: 0.9899 - lr: 1.0000e-05\n",
      "Epoch 25/50\n",
      "291/291 [==============================] - 38s 130ms/step - loss: 0.0309 - accuracy: 0.9886 - val_loss: 0.0396 - val_accuracy: 0.9879 - lr: 1.0000e-05\n",
      "Epoch 26/50\n",
      "291/291 [==============================] - 38s 130ms/step - loss: 0.0243 - accuracy: 0.9914 - val_loss: 0.0521 - val_accuracy: 0.9859 - lr: 1.0000e-05\n",
      "Epoch 27/50\n",
      "291/291 [==============================] - 38s 130ms/step - loss: 0.0292 - accuracy: 0.9899 - val_loss: 0.0434 - val_accuracy: 0.9879 - lr: 2.0000e-06\n",
      "Epoch 28/50\n",
      "291/291 [==============================] - 38s 131ms/step - loss: 0.0277 - accuracy: 0.9918 - val_loss: 0.0359 - val_accuracy: 0.9889 - lr: 2.0000e-06\n",
      "Epoch 29/50\n",
      "291/291 [==============================] - 39s 135ms/step - loss: 0.0259 - accuracy: 0.9908 - val_loss: 0.0323 - val_accuracy: 0.9899 - lr: 2.0000e-06\n",
      "Epoch 30/50\n",
      "291/291 [==============================] - 39s 135ms/step - loss: 0.0268 - accuracy: 0.9910 - val_loss: 0.0293 - val_accuracy: 0.9909 - lr: 2.0000e-06\n",
      "Epoch 31/50\n",
      "291/291 [==============================] - 38s 130ms/step - loss: 0.0232 - accuracy: 0.9916 - val_loss: 0.0313 - val_accuracy: 0.9879 - lr: 2.0000e-06\n",
      "Epoch 32/50\n",
      "291/291 [==============================] - 39s 134ms/step - loss: 0.0241 - accuracy: 0.9938 - val_loss: 0.0258 - val_accuracy: 0.9899 - lr: 2.0000e-06\n",
      "Epoch 33/50\n",
      "291/291 [==============================] - 38s 130ms/step - loss: 0.0212 - accuracy: 0.9931 - val_loss: 0.0272 - val_accuracy: 0.9899 - lr: 2.0000e-06\n",
      "Epoch 34/50\n",
      "291/291 [==============================] - 38s 130ms/step - loss: 0.0236 - accuracy: 0.9938 - val_loss: 0.0306 - val_accuracy: 0.9889 - lr: 2.0000e-06\n",
      "Epoch 35/50\n",
      "291/291 [==============================] - 38s 130ms/step - loss: 0.0200 - accuracy: 0.9933 - val_loss: 0.0301 - val_accuracy: 0.9879 - lr: 2.0000e-06\n",
      "Epoch 36/50\n",
      "291/291 [==============================] - 38s 132ms/step - loss: 0.0225 - accuracy: 0.9925 - val_loss: 0.0304 - val_accuracy: 0.9889 - lr: 2.0000e-06\n",
      "Epoch 37/50\n",
      "291/291 [==============================] - 39s 133ms/step - loss: 0.0194 - accuracy: 0.9944 - val_loss: 0.0276 - val_accuracy: 0.9889 - lr: 2.0000e-06\n",
      "Epoch 38/50\n",
      "291/291 [==============================] - 38s 130ms/step - loss: 0.0227 - accuracy: 0.9931 - val_loss: 0.0279 - val_accuracy: 0.9899 - lr: 4.0000e-07\n",
      "Epoch 39/50\n",
      "291/291 [==============================] - 38s 130ms/step - loss: 0.0150 - accuracy: 0.9951 - val_loss: 0.0276 - val_accuracy: 0.9899 - lr: 4.0000e-07\n",
      "Epoch 40/50\n",
      "291/291 [==============================] - 38s 130ms/step - loss: 0.0212 - accuracy: 0.9931 - val_loss: 0.0278 - val_accuracy: 0.9899 - lr: 4.0000e-07\n",
      "Epoch 41/50\n",
      "291/291 [==============================] - 38s 130ms/step - loss: 0.0178 - accuracy: 0.9938 - val_loss: 0.0265 - val_accuracy: 0.9909 - lr: 4.0000e-07\n",
      "Epoch 42/50\n",
      "291/291 [==============================] - 38s 130ms/step - loss: 0.0201 - accuracy: 0.9933 - val_loss: 0.0269 - val_accuracy: 0.9899 - lr: 4.0000e-07\n"
     ]
    }
   ],
   "source": [
    "early_stopping = EarlyStopping(monitor='val_loss', patience=10, restore_best_weights=True)\n",
    "reduce_lr = ReduceLROnPlateau(monitor='val_loss', factor=0.2, patience=5, min_lr=1e-8)\n",
    "checkpoint = ModelCheckpoint('best_model.keras', monitor='val_loss', save_best_only=True)\n",
    "\n",
    "# Train the model\n",
    "history = model.fit(\n",
    "    train_generator,\n",
    "    validation_data=validation_generator,\n",
    "    epochs=50,\n",
    "    steps_per_epoch=train_generator.samples // train_generator.batch_size,\n",
    "    validation_steps=validation_generator.samples // validation_generator.batch_size,\n",
    "    callbacks=[early_stopping, reduce_lr, checkpoint],\n",
    "    verbose=1\n",
    ")"
   ]
  },
  {
   "cell_type": "code",
   "execution_count": 7,
   "id": "54c9677c-03ce-46ba-9a26-513ee85753a7",
   "metadata": {},
   "outputs": [
    {
     "name": "stdout",
     "output_type": "stream",
     "text": [
      "63/63 [==============================] - 4s 45ms/step\n",
      "                       precision    recall  f1-score   support\n",
      "\n",
      "Potato___Early_blight       0.99      1.00      0.99       150\n",
      " Potato___Late_blight       0.99      0.99      0.99       150\n",
      "     Potato___healthy       1.00      1.00      1.00        23\n",
      "  Tomato_Early_blight       0.99      0.98      0.99       150\n",
      "   Tomato_Late_blight       0.99      0.99      0.99       287\n",
      "       Tomato_healthy       1.00      1.00      1.00       238\n",
      "\n",
      "             accuracy                           0.99       998\n",
      "            macro avg       0.99      0.99      0.99       998\n",
      "         weighted avg       0.99      0.99      0.99       998\n",
      "\n"
     ]
    }
   ],
   "source": [
    "\n",
    "# Load the best model\n",
    "model = tf.keras.models.load_model('best_model.keras')\n",
    "\n",
    "# Evaluate on test set\n",
    "test_generator.reset()\n",
    "preds = model.predict(test_generator, steps=test_generator.samples // test_generator.batch_size + 1)\n",
    "y_pred = np.argmax(preds, axis=1)\n",
    "y_true = test_generator.classes\n",
    "\n",
    "# Generate classification report\n",
    "class_labels = list(test_generator.class_indices.keys())\n",
    "report = classification_report(y_true, y_pred, target_names=class_labels)\n",
    "print(report)"
   ]
  },
  {
   "cell_type": "code",
   "execution_count": 8,
   "id": "a172944d-c2f3-47f1-b9f5-e175f8dd8d71",
   "metadata": {},
   "outputs": [
    {
     "data": {
      "image/png": "[encoded data removed]",
      "text/plain": [
       "<Figure size 1200x600 with 2 Axes>"
      ]
     },
     "metadata": {},
     "output_type": "display_data"
    }
   ],
   "source": [
    "# Plot training & validation accuracy values\n",
    "plt.figure(figsize=(12, 6))\n",
    "plt.subplot(1, 2, 1)\n",
    "plt.plot(history.history['accuracy'])\n",
    "plt.plot(history.history['val_accuracy'])\n",
    "plt.title('Model accuracy')\n",
    "plt.ylabel('Accuracy')\n",
    "plt.xlabel('Epoch')\n",
    "plt.legend(['Train', 'Validation'], loc='upper left')\n",
    "\n",
    "# Plot training & validation loss values\n",
    "plt.subplot(1, 2, 2)\n",
    "plt.plot(history.history['loss'])\n",
    "plt.plot(history.history['val_loss'])\n",
    "plt.title('Model loss')\n",
    "plt.ylabel('Loss')\n",
    "plt.xlabel('Epoch')\n",
    "plt.legend(['Train', 'Validation'], loc='upper left')\n",
    "\n",
    "plt.tight_layout()\n",
    "plt.show()\n"
   ]
  },
  {
   "cell_type": "code",
   "execution_count": 17,
   "id": "bf0d126e-6da3-44d0-8525-966164370503",
   "metadata": {},
   "outputs": [
    {
     "name": "stdout",
     "output_type": "stream",
     "text": [
      "Predicted classes distribution: {0: 152, 1: 149, 2: 23, 3: 148, 4: 287, 5: 239}\n"
     ]
    }
   ],
   "source": [
    "unique, counts = np.unique(y_pred, return_counts=True)\n",
    "print(f\"Predicted classes distribution: {dict(zip(unique, counts))}\")\n"
   ]
  },
  {
   "cell_type": "code",
   "execution_count": 10,
   "id": "34c0ba34-85d3-48ee-a7e1-655c44cf47ce",
   "metadata": {},
   "outputs": [],
   "source": [
    "model.save('ResNet99.keras')"
   ]
  },
  {
   "cell_type": "code",
   "execution_count": 12,
   "id": "33a87f5a-6ae3-43c0-a682-43e475d6179d",
   "metadata": {},
   "outputs": [
    {
     "name": "stdout",
     "output_type": "stream",
     "text": [
      "63/63 [==============================] - 3s 49ms/step - loss: 0.0256 - accuracy: 0.9900\n",
      "Validation accuracy: 0.9899799823760986\n"
     ]
    }
   ],
   "source": [
    "val_loss, val_acc = model.evaluate(validation_generator)\n",
    "print('Validation accuracy:', val_acc)"
   ]
  },
  {
   "cell_type": "code",
   "execution_count": 37,
   "id": "f8333a04-c524-46f4-bc5d-b138ef450057",
   "metadata": {},
   "outputs": [
    {
     "name": "stdout",
     "output_type": "stream",
     "text": [
      "63/63 [==============================] - 3s 37ms/step\n",
      "                       precision    recall  f1-score   support\n",
      "\n",
      "Potato___Early_blight       0.99      1.00      0.99       150\n",
      " Potato___Late_blight       0.99      0.99      0.99       150\n",
      "     Potato___healthy       1.00      1.00      1.00        23\n",
      "  Tomato_Early_blight       0.99      0.98      0.99       150\n",
      "   Tomato_Late_blight       0.99      0.99      0.99       287\n",
      "       Tomato_healthy       1.00      1.00      1.00       238\n",
      "\n",
      "             accuracy                           0.99       998\n",
      "            macro avg       0.99      0.99      0.99       998\n",
      "         weighted avg       0.99      0.99      0.99       998\n",
      "\n",
      "\n",
      "Confusion Matrix:\n",
      "|                       | Potato___Early_blight   | Potato___Late_blight   | Potato___healthy   | Tomato_Early_blight   | Tomato_Late_blight   | Tomato_healthy   |\n",
      "|:----------------------|:------------------------|:-----------------------|:-------------------|:----------------------|:---------------------|:-----------------|\n",
      "| Potato___Early_blight | 150                     | 0                      | 0                  | 0                     | 0                    | 0                |\n",
      "| Potato___Late_blight  | 2                       | 148                    | 0                  | 0                     | 0                    | 0                |\n",
      "| Potato___healthy      | 0                       | 0                      | 23                 | 0                     | 0                    | 0                |\n",
      "| Tomato_Early_blight   | 0                       | 1                      | 0                  | 147                   | 2                    | 0                |\n",
      "| Tomato_Late_blight    | 0                       | 0                      | 0                  | 1                     | 285                  | 1                |\n",
      "| Tomato_healthy        | 0                       | 0                      | 0                  | 0                     | 0                    | 238              |\n"
     ]
    }
   ],
   "source": [
    "\n",
    "model = tf.keras.models.load_model('ResNet99.keras')\n",
    "try:\n",
    "    test_generator.reset()\n",
    "except AttributeError:\n",
    "    print(\"Warning: test_generator does not have a reset() method. Proceeding without resetting.\")\n",
    "\n",
    "\n",
    "preds = model.predict(test_generator, steps=len(test_generator))\n",
    "\n",
    "\n",
    "y_true = test_generator.classes\n",
    "y_pred = np.argmax(preds, axis=1)\n",
    "\n",
    "\n",
    "class_labels = list(test_generator.class_indices.keys())\n",
    "\n",
    "\n",
    "report = classification_report(y_true, y_pred, target_names=class_labels)\n",
    "print(report)\n",
    "\n",
    "# Generate confusion matrix\n",
    "cm = confusion_matrix(y_true, y_pred)\n",
    "\n",
    "\n",
    "cm_df = pd.DataFrame(cm, index=class_labels, columns=class_labels)\n",
    "\n",
    "# Print confusion matrix using pandas DataFrame\n",
    "print(\"\\nConfusion Matrix:\")\n",
    "print(cm_df.to_markdown(numalign='left', stralign='left'))\n"
   ]
  },
  {
   "cell_type": "code",
   "execution_count": null,
   "id": "ddc5b910-7adc-4d88-a4a4-6b6dfe36af0a",
   "metadata": {},
   "outputs": [],
   "source": []
  }
 ],
 "metadata": {
  "kernelspec": {
   "display_name": "Python 3 (ipykernel)",
   "language": "python",
   "name": "python3"
  },
  "language_info": {
   "codemirror_mode": {
    "name": "ipython",
    "version": 3
   },
   "file_extension": ".py",
   "mimetype": "text/x-python",
   "name": "python",
   "nbconvert_exporter": "python",
   "pygments_lexer": "ipython3",
   "version": "3.10.14"
  }
 },
 "nbformat": 4,
 "nbformat_minor": 5
}
